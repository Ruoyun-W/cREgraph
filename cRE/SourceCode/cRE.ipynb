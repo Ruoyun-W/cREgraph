{
 "cells": [
  {
   "cell_type": "code",
   "execution_count": 6,
   "id": "a7aa14f9",
   "metadata": {},
   "outputs": [],
   "source": [
    "import sys\n",
    " \n",
    "sys.path.append('..')\n",
    "\n",
    "from DataUtils import Data_Generator\n",
    "from DataUtils import Data_Loader\n",
    "from Models import InitialModel\n",
    "\n",
    "import torch"
   ]
  },
  {
   "cell_type": "code",
   "execution_count": 4,
   "id": "a223bb26",
   "metadata": {},
   "outputs": [
    {
     "data": {
      "text/plain": [
       "<module 'DataUtils.Data_Loader' from '/home/aryan/Desktop/Researches/Darthmoth-GNN/cREgraph/SourceCode/../DataUtils/Data_Loader.py'>"
      ]
     },
     "execution_count": 4,
     "metadata": {},
     "output_type": "execute_result"
    }
   ],
   "source": [
    "import importlib\n",
    "importlib.reload(Data_Generator)\n",
    "importlib.reload(Data_Loader)"
   ]
  },
  {
   "cell_type": "code",
   "execution_count": 27,
   "id": "42c62900",
   "metadata": {},
   "outputs": [],
   "source": [
    "cre_attributes, cre_dna, cre_edge_pairs, cre_edge_matrix = Data_Loader.load_graph_data(\"./../Dataset\", \"cre\", '../DataUtils/config.json')    "
   ]
  },
  {
   "cell_type": "code",
   "execution_count": 30,
   "id": "2db36cef",
   "metadata": {},
   "outputs": [
    {
     "name": "stderr",
     "output_type": "stream",
     "text": [
      "100%|███████████████████████████████████████| 1000/1000 [00:23<00:00, 42.67it/s]\n"
     ]
    }
   ],
   "source": [
    "Data_Generator.generate_datasets(cre_attributes, cre_dna, cre_edge_matrix,cre_edge_pairs)"
   ]
  },
  {
   "cell_type": "code",
   "execution_count": 11,
   "id": "83227600",
   "metadata": {},
   "outputs": [
    {
     "name": "stdout",
     "output_type": "stream",
     "text": [
      "+----------------------+-------------------------+----------------+----------+\n",
      "| Layer                | Input Shape             | Output Shape   | #Param   |\n",
      "|----------------------+-------------------------+----------------+----------|\n",
      "| gnn_network          | [20000, 20000]          | [2000000, 2]   | 641,005  |\n",
      "| ├─(conv1)GCNConv     | [20000, 500], [2, 6284] | [20000, 300]   | 150,300  |\n",
      "| ├─(conv2)GCNConv     | [20000, 300], [2, 6284] | [20000, 200]   | 60,200   |\n",
      "| ├─(linear)Linear     | [100, 100, 1]           | [100, 100, 2]  | 4        |\n",
      "| ├─(bilinear)Bilinear | --                      | --             | 40,001   |\n",
      "| ├─(transform1)Linear | [20000, 11]             | [20000, 500]   | 6,000    |\n",
      "| ├─(transform2)Linear | [20000, 768]            | [20000, 500]   | 384,500  |\n",
      "+----------------------+-------------------------+----------------+----------+\n",
      "epoch 0, loss 25.783525466918945\n",
      "epoch 1, loss 0.9375218152999878\n",
      "epoch 2, loss 6.372708298840735e-07\n",
      "epoch 3, loss 0.7971795201301575\n",
      "epoch 4, loss 1.016784906387329\n"
     ]
    },
    {
     "data": {
      "text/plain": [
       "(gnn_network(\n",
       "   (conv1): GCNConv(500, 300)\n",
       "   (conv2): GCNConv(300, 200)\n",
       "   (linear): Linear(in_features=1, out_features=2, bias=True)\n",
       "   (bilinear): Bilinear(in1_features=200, in2_features=200, out_features=1, bias=True)\n",
       "   (transform1): Linear(in_features=11, out_features=500, bias=True)\n",
       "   (transform2): Linear(in_features=768, out_features=500, bias=True)\n",
       " ),\n",
       " [],\n",
       " [0.634229302406311,\n",
       "  0.46163055300712585,\n",
       "  1.528757095336914,\n",
       "  4.072954311595822e-07,\n",
       "  0.0])"
      ]
     },
     "execution_count": 11,
     "metadata": {},
     "output_type": "execute_result"
    }
   ],
   "source": [
    "dataset_train = torch.load(\"../DataUtils/datasets/train_loader.pth\")\n",
    "dataset_test = torch.load(\"../DataUtils/datasets/test_loader.pth\")\n",
    "InitialModel.train_gnn_model(dataset_train, dataset_test, \"../Models/config.json\")"
   ]
  }
 ],
 "metadata": {
  "kernelspec": {
   "display_name": "Python 3 (ipykernel)",
   "language": "python",
   "name": "python3"
  },
  "language_info": {
   "codemirror_mode": {
    "name": "ipython",
    "version": 3
   },
   "file_extension": ".py",
   "mimetype": "text/x-python",
   "name": "python",
   "nbconvert_exporter": "python",
   "pygments_lexer": "ipython3",
   "version": "3.10.7"
  }
 },
 "nbformat": 4,
 "nbformat_minor": 5
}
