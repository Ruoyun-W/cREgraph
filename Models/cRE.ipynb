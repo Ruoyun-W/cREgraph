{
 "cells": [
  {
   "cell_type": "code",
   "execution_count": 34,
   "id": "459ca07f",
   "metadata": {},
   "outputs": [],
   "source": [
    "import sys\n",
    " \n",
    "sys.path.append('../DataUtils')\n",
    "\n",
    "import Data_Generator\n",
    "import Data_Loader\n",
    "import torch"
   ]
  },
  {
   "cell_type": "code",
   "execution_count": 31,
   "id": "8068b45f",
   "metadata": {},
   "outputs": [
    {
     "data": {
      "text/plain": [
       "<module 'Data_Loader' from '/home/aryan/Desktop/Researches/Darthmoth-GNN/cREgraph/Models/../DataUtils/Data_Loader.py'>"
      ]
     },
     "execution_count": 31,
     "metadata": {},
     "output_type": "execute_result"
    }
   ],
   "source": [
    "import importlib\n",
    "importlib.reload(Data_Generator)\n",
    "importlib.reload(Data_Loader)"
   ]
  },
  {
   "cell_type": "code",
   "execution_count": 27,
   "id": "4a72e4ea",
   "metadata": {},
   "outputs": [],
   "source": [
    "cre_attributes, cre_dna, cre_edge_pairs, cre_edge_matrix = Data_Loader.load_graph_data(\"./../Dataset\", \"cre\", '../DataUtils/config.json')    "
   ]
  },
  {
   "cell_type": "code",
   "execution_count": 32,
   "id": "2edc5ad3",
   "metadata": {},
   "outputs": [
    {
     "name": "stderr",
     "output_type": "stream",
     "text": [
      "100%|███████████████████████████████████████| 1000/1000 [00:22<00:00, 43.63it/s]\n"
     ]
    }
   ],
   "source": [
    "Data_Generator.generate_datasets(cre_attributes, cre_dna, cre_edge_matrix,cre_edge_pairs)"
   ]
  },
  {
   "cell_type": "code",
   "execution_count": 38,
   "id": "79b6d83c",
   "metadata": {},
   "outputs": [
    {
     "ename": "NameError",
     "evalue": "name 'InitialModel' is not defined",
     "output_type": "error",
     "traceback": [
      "\u001b[0;31m---------------------------------------------------------------------------\u001b[0m",
      "\u001b[0;31mNameError\u001b[0m                                 Traceback (most recent call last)",
      "Cell \u001b[0;32mIn[38], line 3\u001b[0m\n\u001b[1;32m      1\u001b[0m dataset_train \u001b[38;5;241m=\u001b[39m torch\u001b[38;5;241m.\u001b[39mload(\u001b[38;5;124m\"\u001b[39m\u001b[38;5;124m../DataUtils/datasets/train_loader.pth\u001b[39m\u001b[38;5;124m\"\u001b[39m)\n\u001b[1;32m      2\u001b[0m dataset_test \u001b[38;5;241m=\u001b[39m torch\u001b[38;5;241m.\u001b[39mload(\u001b[38;5;124m\"\u001b[39m\u001b[38;5;124m../DataUtils/datasets/test_loader.pth\u001b[39m\u001b[38;5;124m\"\u001b[39m)\n\u001b[0;32m----> 3\u001b[0m \u001b[43mInitialModel\u001b[49m\u001b[38;5;241m.\u001b[39mtrain_gnn_model(dataset_train, dataset_test, \u001b[38;5;124m\"\u001b[39m\u001b[38;5;124m../Models/config.json\u001b[39m\u001b[38;5;124m\"\u001b[39m)\n",
      "\u001b[0;31mNameError\u001b[0m: name 'InitialModel' is not defined"
     ]
    }
   ],
   "source": [
    "dataset_train = torch.load(\"../DataUtils/datasets/train_loader.pth\")\n",
    "dataset_test = torch.load(\"../DataUtils/datasets/test_loader.pth\")\n",
    "InitialModel.train_gnn_model(dataset_train, dataset_test, \"../Models/config.json\")"
   ]
  }
 ],
 "metadata": {
  "kernelspec": {
   "display_name": "Python 3 (ipykernel)",
   "language": "python",
   "name": "python3"
  },
  "language_info": {
   "codemirror_mode": {
    "name": "ipython",
    "version": 3
   },
   "file_extension": ".py",
   "mimetype": "text/x-python",
   "name": "python",
   "nbconvert_exporter": "python",
   "pygments_lexer": "ipython3",
   "version": "3.10.7"
  }
 },
 "nbformat": 4,
 "nbformat_minor": 5
}
