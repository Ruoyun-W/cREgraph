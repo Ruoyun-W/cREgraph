{
 "cells": [
  {
   "cell_type": "code",
   "execution_count": 11,
   "id": "a7aa14f9",
   "metadata": {},
   "outputs": [],
   "source": [
    "import sys\n",
    " \n",
    "sys.path.append('../DataUtils')\n",
    "\n",
    "import Data_Generator\n",
    "import Data_Loader"
   ]
  },
  {
   "cell_type": "code",
   "execution_count": 26,
   "id": "a223bb26",
   "metadata": {},
   "outputs": [
    {
     "data": {
      "text/plain": [
       "<module 'Data_Loader' from '/home/aryan/Desktop/Researches/Darthmoth-GNN/cREgraph/Models/../DataUtils/Data_Loader.py'>"
      ]
     },
     "execution_count": 26,
     "metadata": {},
     "output_type": "execute_result"
    }
   ],
   "source": [
    "import importlib\n",
    "importlib.reload(Data_Generator)\n",
    "importlib.reload(Data_Loader)"
   ]
  },
  {
   "cell_type": "code",
   "execution_count": 27,
   "id": "42c62900",
   "metadata": {},
   "outputs": [],
   "source": [
    "cre_attributes, cre_dna, cre_edge_pairs, cre_edge_matrix = Data_Loader.load_graph_data(\"./../Dataset\", \"cre\", '../DataUtils/config.json')    "
   ]
  },
  {
   "cell_type": "code",
   "execution_count": 30,
   "id": "2db36cef",
   "metadata": {},
   "outputs": [
    {
     "name": "stderr",
     "output_type": "stream",
     "text": [
      "100%|███████████████████████████████████████| 1000/1000 [00:23<00:00, 42.67it/s]\n"
     ]
    }
   ],
   "source": [
    "Data_Generator.generate_datasets(cre_attributes, cre_dna, cre_edge_matrix,cre_edge_pairs)"
   ]
  }
 ],
 "metadata": {
  "kernelspec": {
   "display_name": "Python 3 (ipykernel)",
   "language": "python",
   "name": "python3"
  },
  "language_info": {
   "codemirror_mode": {
    "name": "ipython",
    "version": 3
   },
   "file_extension": ".py",
   "mimetype": "text/x-python",
   "name": "python",
   "nbconvert_exporter": "python",
   "pygments_lexer": "ipython3",
   "version": "3.10.7"
  }
 },
 "nbformat": 4,
 "nbformat_minor": 5
}
