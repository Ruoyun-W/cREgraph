{
 "cells": [
  {
   "cell_type": "code",
   "execution_count": null,
   "id": "d8c85141",
   "metadata": {},
   "outputs": [],
   "source": [
    "Data_Loader.NewDataSet.load_graph_data(\"./../Dataset/NewDataset\", \"cre\", '../DataUtils/config.json')    "
   ]
  }
 ],
 "metadata": {
  "kernelspec": {
   "display_name": "Python 3 (ipykernel)",
   "language": "python",
   "name": "python3"
  },
  "language_info": {
   "codemirror_mode": {
    "name": "ipython",
    "version": 3
   },
   "file_extension": ".py",
   "mimetype": "text/x-python",
   "name": "python",
   "nbconvert_exporter": "python",
   "pygments_lexer": "ipython3",
   "version": "3.10.7"
  }
 },
 "nbformat": 4,
 "nbformat_minor": 5
}
